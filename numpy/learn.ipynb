{
 "cells": [
  {
   "cell_type": "markdown",
   "metadata": {},
   "source": [
    "NUMPY\n"
   ]
  },
  {
   "cell_type": "code",
   "execution_count": 7,
   "metadata": {},
   "outputs": [
    {
     "name": "stdout",
     "output_type": "stream",
     "text": [
      "[1, 2, 3, 4, 5]\n",
      "2\n",
      "[2, 3, 4]\n",
      "5\n",
      "<class 'list'>\n"
     ]
    }
   ],
   "source": [
    "import numpy as np\n",
    "a = [1,2,3,4,5]\n",
    "print(a)\n",
    "print(a[1])\n",
    "print(a[1:4])\n",
    "print(a[-1])\n",
    "print(type(a))"
   ]
  },
  {
   "cell_type": "code",
   "execution_count": 6,
   "metadata": {},
   "outputs": [
    {
     "name": "stdout",
     "output_type": "stream",
     "text": [
      "[1 2 3 4 5]\n",
      "2\n",
      "[2 3 4]\n",
      "5\n",
      "<class 'numpy.ndarray'>\n"
     ]
    }
   ],
   "source": [
    "import numpy as np\n",
    "a = np.array([1,2,3,4,5])\n",
    "print(a)\n",
    "print(a[1])\n",
    "print(a[1:4])\n",
    "print(a[-1])\n",
    "print(type(a))"
   ]
  },
  {
   "cell_type": "markdown",
   "metadata": {},
   "source": [
    "Array Atributy"
   ]
  },
  {
   "cell_type": "code",
   "execution_count": 24,
   "metadata": {},
   "outputs": [
    {
     "name": "stdout",
     "output_type": "stream",
     "text": [
      "[[1 2 3]\n",
      " [4 5 6]\n",
      " [7 8 9]]\n",
      "(3, 3)\n",
      "2\n",
      "9\n",
      "int32\n"
     ]
    }
   ],
   "source": [
    "import numpy as np\n",
    "a_mul = np.array([[1,2,3],[4,5,6],[7,8,9]])\n",
    "print(a_mul)\n",
    "print(a_mul.shape)\n",
    "print(a_mul.ndim)\n",
    "print(a_mul.size)\n",
    "print(a_mul.dtype)"
   ]
  },
  {
   "cell_type": "markdown",
   "metadata": {},
   "source": [
    "Datové typy"
   ]
  },
  {
   "cell_type": "code",
   "execution_count": 37,
   "metadata": {},
   "outputs": [
    {
     "name": "stdout",
     "output_type": "stream",
     "text": [
      "int32\n",
      "<class 'numpy.int32'>\n",
      "int32\n",
      "5\n"
     ]
    }
   ],
   "source": [
    "import numpy as np\n",
    "                #Nesmí být v stringu písmena  #jinak dtype=np.int32 nebude fungovat\n",
    "# a = np.array([[1,2,3],[4,\"Hello\",6],[7,8,9]], dtype=np.int32) \n",
    "# print(a.dtype)\n",
    "# print(type(a[0][0]))\n",
    "# print(a[0][0].dtype)\n",
    "\n",
    "                #Zde mame cislo ve stringu, dtype funguje\n",
    "                                        # int32 muzeme nahradit float32\n",
    "b = np.array([[1,2,3],[4,\"5\",6],[7,8,9]], dtype=np.int32)\n",
    "print(b.dtype)\n",
    "print(type(a[0][0]))\n",
    "print(b[1][1].dtype)\n",
    "print(a[1,1])\n"
   ]
  },
  {
   "cell_type": "code",
   "execution_count": 43,
   "metadata": {},
   "outputs": [
    {
     "name": "stdout",
     "output_type": "stream",
     "text": [
      "<U7\n",
      "<class 'numpy.str_'>\n"
     ]
    }
   ],
   "source": [
    "import numpy as np\n",
    "d = {'1':'A'}\n",
    "#Po vložení dictionary se nám z toho stane object\n",
    "#mužeme tam mít i string\n",
    "                                            #zde menime datovy typ\n",
    "b = np.array([[1,2,3],[4,d,6],[7,8,\"hello\"]], dtype=\"<U7\")\n",
    "print(b.dtype)\n",
    "print(type(b[1][0]))"
   ]
  },
  {
   "cell_type": "markdown",
   "metadata": {},
   "source": [
    "Filling arrays"
   ]
  },
  {
   "cell_type": "code",
   "execution_count": 48,
   "metadata": {},
   "outputs": [
    {
     "name": "stdout",
     "output_type": "stream",
     "text": [
      "[[[9 9 9 9]\n",
      "  [9 9 9 9]\n",
      "  [9 9 9 9]]\n",
      "\n",
      " [[9 9 9 9]\n",
      "  [9 9 9 9]\n",
      "  [9 9 9 9]]]\n",
      "[[[0. 0.]\n",
      "  [0. 0.]\n",
      "  [0. 0.]\n",
      "  [0. 0.]\n",
      "  [0. 0.]]\n",
      "\n",
      " [[0. 0.]\n",
      "  [0. 0.]\n",
      "  [0. 0.]\n",
      "  [0. 0.]\n",
      "  [0. 0.]]\n",
      "\n",
      " [[0. 0.]\n",
      "  [0. 0.]\n",
      "  [0. 0.]\n",
      "  [0. 0.]\n",
      "  [0. 0.]]\n",
      "\n",
      " [[0. 0.]\n",
      "  [0. 0.]\n",
      "  [0. 0.]\n",
      "  [0. 0.]\n",
      "  [0. 0.]]\n",
      "\n",
      " [[0. 0.]\n",
      "  [0. 0.]\n",
      "  [0. 0.]\n",
      "  [0. 0.]\n",
      "  [0. 0.]]\n",
      "\n",
      " [[0. 0.]\n",
      "  [0. 0.]\n",
      "  [0. 0.]\n",
      "  [0. 0.]\n",
      "  [0. 0.]]\n",
      "\n",
      " [[0. 0.]\n",
      "  [0. 0.]\n",
      "  [0. 0.]\n",
      "  [0. 0.]\n",
      "  [0. 0.]]\n",
      "\n",
      " [[0. 0.]\n",
      "  [0. 0.]\n",
      "  [0. 0.]\n",
      "  [0. 0.]\n",
      "  [0. 0.]]\n",
      "\n",
      " [[0. 0.]\n",
      "  [0. 0.]\n",
      "  [0. 0.]\n",
      "  [0. 0.]\n",
      "  [0. 0.]]\n",
      "\n",
      " [[0. 0.]\n",
      "  [0. 0.]\n",
      "  [0. 0.]\n",
      "  [0. 0.]\n",
      "  [0. 0.]]]\n",
      "[[[1. 1.]\n",
      "  [1. 1.]\n",
      "  [1. 1.]\n",
      "  [1. 1.]\n",
      "  [1. 1.]]\n",
      "\n",
      " [[1. 1.]\n",
      "  [1. 1.]\n",
      "  [1. 1.]\n",
      "  [1. 1.]\n",
      "  [1. 1.]]\n",
      "\n",
      " [[1. 1.]\n",
      "  [1. 1.]\n",
      "  [1. 1.]\n",
      "  [1. 1.]\n",
      "  [1. 1.]]\n",
      "\n",
      " [[1. 1.]\n",
      "  [1. 1.]\n",
      "  [1. 1.]\n",
      "  [1. 1.]\n",
      "  [1. 1.]]\n",
      "\n",
      " [[1. 1.]\n",
      "  [1. 1.]\n",
      "  [1. 1.]\n",
      "  [1. 1.]\n",
      "  [1. 1.]]\n",
      "\n",
      " [[1. 1.]\n",
      "  [1. 1.]\n",
      "  [1. 1.]\n",
      "  [1. 1.]\n",
      "  [1. 1.]]\n",
      "\n",
      " [[1. 1.]\n",
      "  [1. 1.]\n",
      "  [1. 1.]\n",
      "  [1. 1.]\n",
      "  [1. 1.]]\n",
      "\n",
      " [[1. 1.]\n",
      "  [1. 1.]\n",
      "  [1. 1.]\n",
      "  [1. 1.]\n",
      "  [1. 1.]]\n",
      "\n",
      " [[1. 1.]\n",
      "  [1. 1.]\n",
      "  [1. 1.]\n",
      "  [1. 1.]\n",
      "  [1. 1.]]\n",
      "\n",
      " [[1. 1.]\n",
      "  [1. 1.]\n",
      "  [1. 1.]\n",
      "  [1. 1.]\n",
      "  [1. 1.]]]\n",
      "[[[0.00000000e+000 6.95232654e-310 4.67386101e-321             nan\n",
      "   4.57099113e-309]\n",
      "  [0.00000000e+000 2.07458463e+026 9.08367229e+223 1.69375010e+190\n",
      "   2.87453085e+291]\n",
      "  [3.14405836e+233 8.54265717e+257 6.99177894e+228 8.24242019e+160\n",
      "   1.26829177e+017]\n",
      "  [5.79530389e+199 7.47730573e+247 4.44389100e+252 1.84841356e-004\n",
      "   4.24515351e+175]\n",
      "  [3.33747054e+257 5.42791239e-109 6.99177729e+228 4.78206908e+180\n",
      "   8.23560879e+160]]\n",
      "\n",
      " [[1.09060199e-114 6.99177794e+228 3.64393095e+228 1.06303599e+224\n",
      "   6.97873719e+228]\n",
      "  [1.94933351e+243 2.65648976e+233 1.14131281e-114 3.93266695e-028\n",
      "   8.89501052e+252]\n",
      "  [4.69598393e+257 1.67751539e+243 7.36093992e+223 2.86121962e+242\n",
      "   2.28898721e+243]\n",
      "  [1.69375270e+190 2.58634340e+161 3.18274026e+291 1.94927295e+243\n",
      "   8.44747281e+252]\n",
      "  [1.67751539e+243 1.69375270e+190 1.86390505e-004 6.92546575e+252\n",
      "   6.51629129e-109]]\n",
      "\n",
      " [[7.54178159e+252 1.21130561e+199 6.77202251e-109 4.31579898e+055\n",
      "   1.94923879e+243]\n",
      "  [7.27373220e+175 5.32751130e+233 4.11941833e+257 1.87238758e+065\n",
      "   9.36669223e+218]\n",
      "  [2.88067949e+214 1.23969134e+224 4.90605860e-109 3.93258379e-028\n",
      "   1.86575517e-004]\n",
      "  [4.44390491e+252 2.21203814e+214 2.71395812e-109 1.23994566e+290\n",
      "   8.55447801e+092]\n",
      "  [2.02646857e+267 1.23994566e+290 3.93266657e-028 2.64141742e+233\n",
      "   9.08367203e+223]]\n",
      "\n",
      " [[1.82676272e+291 9.08366793e+223 3.00454355e+243 5.93160396e+228\n",
      "   1.67751539e+243]\n",
      "  [4.30993815e-114 4.82337451e+228 4.83497261e+185 2.85338320e+242\n",
      "   2.28690020e+243]\n",
      "  [7.35423705e+223 1.12319906e+219 6.99177767e+228 7.35423705e+223\n",
      "   3.93263240e-028]\n",
      "  [1.84841356e-004 1.47193364e+224 1.14445753e+243 1.56004482e+277\n",
      "   9.90028080e-114]\n",
      "  [2.87453085e+291 3.11779745e-109 1.85174564e-004 1.17143213e+200\n",
      "   1.85623318e-004]]\n",
      "\n",
      " [[1.35792338e+200 6.33083394e+233 4.90605860e-109 1.86390505e-004\n",
      "   1.34520189e+228]\n",
      "  [1.67751539e+243 1.86127195e-004 2.06893869e+026 1.85176317e-004\n",
      "   9.48749678e+222]\n",
      "  [5.18293760e-110 5.46377301e+242 2.07496271e+026 9.25079923e+242\n",
      "   1.96897974e+248]\n",
      "  [7.35423705e+223 6.66126215e-115 4.26138717e+257 4.90605860e-109\n",
      "   1.06301026e+224]\n",
      "  [3.87206523e+228 4.90605860e-109 2.48636862e+262 1.94932375e+243\n",
      "   6.97654617e+250]]]\n"
     ]
    }
   ],
   "source": [
    "import numpy as np\n",
    "#2 vytvori dva listy\n",
    "#3 vytvori tri listy ve dvou listech\n",
    "#4 vytvori ctyri prvky ve trech listech ktery jsou ve dvou listech\n",
    "#Nakonci je prvek ktery davame do techto listu\n",
    "a = np.full((2,3,4), 9)\n",
    "print(a)\n",
    "\n",
    "b= np.zeros((10,5,2))\n",
    "print(b)\n",
    "\n",
    "c= np.ones((10,5,2))\n",
    "print(c)\n",
    "\n",
    "d= np.empty((5,5,5))\n",
    "print(d)"
   ]
  },
  {
   "cell_type": "code",
   "execution_count": 55,
   "metadata": {},
   "outputs": [
    {
     "name": "stdout",
     "output_type": "stream",
     "text": [
      "[   0    5   10   15   20   25   30   35   40   45   50   55   60   65\n",
      "   70   75   80   85   90   95  100  105  110  115  120  125  130  135\n",
      "  140  145  150  155  160  165  170  175  180  185  190  195  200  205\n",
      "  210  215  220  225  230  235  240  245  250  255  260  265  270  275\n",
      "  280  285  290  295  300  305  310  315  320  325  330  335  340  345\n",
      "  350  355  360  365  370  375  380  385  390  395  400  405  410  415\n",
      "  420  425  430  435  440  445  450  455  460  465  470  475  480  485\n",
      "  490  495  500  505  510  515  520  525  530  535  540  545  550  555\n",
      "  560  565  570  575  580  585  590  595  600  605  610  615  620  625\n",
      "  630  635  640  645  650  655  660  665  670  675  680  685  690  695\n",
      "  700  705  710  715  720  725  730  735  740  745  750  755  760  765\n",
      "  770  775  780  785  790  795  800  805  810  815  820  825  830  835\n",
      "  840  845  850  855  860  865  870  875  880  885  890  895  900  905\n",
      "  910  915  920  925  930  935  940  945  950  955  960  965  970  975\n",
      "  980  985  990  995 1000]\n",
      "[   0.    1.    2. ...  998.  999. 1000.]\n"
     ]
    }
   ],
   "source": [
    "import numpy as np\n",
    "    #cisla od 0 do 1000 , po peti\n",
    "x_values = np.arange(0,1005,5)\n",
    "print(x_values) \n",
    "    #cisla od 0 do 1000 , pouze dve\n",
    "x_values = np.linspace(0,1000,1001)\n",
    "print(x_values)"
   ]
  },
  {
   "cell_type": "code",
   "execution_count": 60,
   "metadata": {},
   "outputs": [
    {
     "name": "stdout",
     "output_type": "stream",
     "text": [
      "nan\n",
      "inf\n",
      "True\n",
      "True\n",
      "True\n"
     ]
    },
    {
     "name": "stderr",
     "output_type": "stream",
     "text": [
      "C:\\Users\\PC\\AppData\\Local\\Temp\\ipykernel_14464\\4082825739.py:5: RuntimeWarning: invalid value encountered in sqrt\n",
      "  print(np.isnan(np.sqrt(-1)))\n"
     ]
    }
   ],
   "source": [
    "import numpy as np\n",
    "print(np.nan)\n",
    "print(np.inf)\n",
    "\n",
    "print(np.isnan(np.nan))\n",
    "print(np.isnan(np.sqrt(-1)))\n",
    "\n",
    "print(np.isinf(np.inf))\n"
   ]
  },
  {
   "cell_type": "markdown",
   "metadata": {},
   "source": [
    "Matematicke operace"
   ]
  },
  {
   "cell_type": "code",
   "execution_count": 66,
   "metadata": {},
   "outputs": [
    {
     "name": "stdout",
     "output_type": "stream",
     "text": [
      "[1, 2, 3, 4, 5, 1, 2, 3, 4, 5, 1, 2, 3, 4, 5, 1, 2, 3, 4, 5, 1, 2, 3, 4, 5]\n",
      "[ 5 10 15 20 25]\n",
      "[ 6  7  8  9 10]\n",
      "[1, 2, 3, 4, 5, 6, 7, 8, 9, 0]\n",
      "[ 7  9 11 13  5]\n"
     ]
    }
   ],
   "source": [
    "l1 = [1,2,3,4,5]\n",
    "l2 = [6,7,8,9,0]\n",
    "\n",
    "a1 = np .array(l1)\n",
    "a2 = np .array(l2)\n",
    "\n",
    "#Python list\n",
    "print(l1*5)\n",
    "#np list\n",
    "print(a1*5)\n",
    "print(a1+5)\n",
    "\n",
    "print(l1+l2)\n",
    "print(a1+a2)\n",
    "#Jde o to že většina operací nefunguje s python listem\n",
    "#S np listem funguje vice operaci"
   ]
  },
  {
   "cell_type": "code",
   "execution_count": 69,
   "metadata": {},
   "outputs": [
    {
     "ename": "TypeError",
     "evalue": "Field elements must be 2- or 3-tuples, got '2'",
     "output_type": "error",
     "traceback": [
      "\u001b[1;31m---------------------------------------------------------------------------\u001b[0m",
      "\u001b[1;31mTypeError\u001b[0m                                 Traceback (most recent call last)",
      "Cell \u001b[1;32mIn[69], line 2\u001b[0m\n\u001b[0;32m      1\u001b[0m a1  \u001b[38;5;241m=\u001b[39m np\u001b[38;5;241m.\u001b[39marray([\u001b[38;5;241m1\u001b[39m,\u001b[38;5;241m2\u001b[39m,\u001b[38;5;241m3\u001b[39m])\n\u001b[1;32m----> 2\u001b[0m a2 \u001b[38;5;241m=\u001b[39m \u001b[43mnp\u001b[49m\u001b[38;5;241;43m.\u001b[39;49m\u001b[43marray\u001b[49m\u001b[43m(\u001b[49m\u001b[43m[\u001b[49m\u001b[38;5;241;43m1\u001b[39;49m\u001b[43m,\u001b[49m\u001b[38;5;241;43m1\u001b[39;49m\u001b[43m,\u001b[49m\u001b[38;5;241;43m1\u001b[39;49m\u001b[43m]\u001b[49m\u001b[43m,\u001b[49m\u001b[43m[\u001b[49m\u001b[38;5;241;43m2\u001b[39;49m\u001b[43m,\u001b[49m\u001b[38;5;241;43m1\u001b[39;49m\u001b[43m,\u001b[49m\u001b[38;5;241;43m1\u001b[39;49m\u001b[43m]\u001b[49m\u001b[43m)\u001b[49m\n\u001b[0;32m      3\u001b[0m \u001b[38;5;28mprint\u001b[39m(a1\u001b[38;5;241m+\u001b[39ma2)\n",
      "\u001b[1;31mTypeError\u001b[0m: Field elements must be 2- or 3-tuples, got '2'"
     ]
    }
   ],
   "source": [
    "#Nelze\n",
    "a1  = np.array([1,2,3])\n",
    "a2 = np.array([1,1,1],[2,1,1])\n",
    "print(a1+a2)"
   ]
  },
  {
   "cell_type": "code",
   "execution_count": 72,
   "metadata": {},
   "outputs": [
    {
     "name": "stdout",
     "output_type": "stream",
     "text": [
      "[[1.         1.41421356 1.73205081]\n",
      " [2.         2.23606798 2.        ]]\n",
      "[[ 0.54030231 -0.41614684 -0.9899925 ]\n",
      " [-0.65364362  0.28366219 -0.65364362]]\n",
      "[[0.         0.30103    0.47712125]\n",
      " [0.60205999 0.69897    0.60205999]]\n"
     ]
    }
   ],
   "source": [
    "#Muzeme pouzit ruzne operace jako sqrt, cos , sin ...\n",
    "a = np.array([[1,2,3],[4,5,4]])\n",
    "print(np.sqrt(a))\n",
    "print(np.cos(a))\n",
    "print(np.log10(a))"
   ]
  },
  {
   "cell_type": "markdown",
   "metadata": {},
   "source": [
    "Array metody"
   ]
  },
  {
   "cell_type": "code",
   "execution_count": 81,
   "metadata": {},
   "outputs": [
    {
     "name": "stdout",
     "output_type": "stream",
     "text": [
      "[1 2 3]\n",
      "[1 2 3 7 8 9]\n",
      "[1 2 3 4 5 6]\n",
      "[1 3]\n"
     ]
    }
   ],
   "source": [
    "a = np.array([1,2,3])\n",
    "b =np.append(a,[7,8,9])\n",
    "#Povšimni si že se to neuloží, měl bys tedy np.append nějak definovat\n",
    "print(a)\n",
    "print(b)\n",
    "#Insertujeme na index 3 ,cisla v seznamu\n",
    "c =np.insert(a,3,[4,5,6])\n",
    "print(c)\n",
    "#Deletne cislo na indexu 1, tedy 2\n",
    "print(np.delete(a,1))\n",
    "\n",
    "\n"
   ]
  },
  {
   "cell_type": "markdown",
   "metadata": {},
   "source": [
    "Strukturovaci metody"
   ]
  },
  {
   "cell_type": "code",
   "execution_count": 87,
   "metadata": {},
   "outputs": [
    {
     "name": "stdout",
     "output_type": "stream",
     "text": [
      "(4, 5)\n",
      "[[ 1  2  3  4]\n",
      " [ 5  6  7  8]\n",
      " [ 9 10 11 12]\n",
      " [13 14 15 16]\n",
      " [17 18 19 20]]\n",
      "[ 1  2  3  4  5  6  7  8  9 10 11 12 13 14 15 16 17 18 19 20]\n",
      "[[ 1]\n",
      " [ 2]\n",
      " [ 3]\n",
      " [ 4]\n",
      " [ 5]\n",
      " [ 6]\n",
      " [ 7]\n",
      " [ 8]\n",
      " [ 9]\n",
      " [10]\n",
      " [11]\n",
      " [12]\n",
      " [13]\n",
      " [14]\n",
      " [15]\n",
      " [16]\n",
      " [17]\n",
      " [18]\n",
      " [19]\n",
      " [20]]\n",
      "[[ 1  2  3  4  5  6  7  8  9 10]\n",
      " [11 12 13 14 15 16 17 18 19 20]]\n",
      "[[[ 1  2]\n",
      "  [ 3  4]]\n",
      "\n",
      " [[ 5  6]\n",
      "  [ 7  8]]\n",
      "\n",
      " [[ 9 10]\n",
      "  [11 12]]\n",
      "\n",
      " [[13 14]\n",
      "  [15 16]]\n",
      "\n",
      " [[17 18]\n",
      "  [19 20]]]\n"
     ]
    }
   ],
   "source": [
    "#Zde muzeme menit list\n",
    "a = np.array([[1,2,3,4,5],\n",
    "              [6,7,8,9,10],\n",
    "              [11,12,13,14,15],\n",
    "              [16,17,18,19,20]])\n",
    "\n",
    "print(a.shape)\n",
    "print(a.reshape((5,4)))\n",
    "print(a.reshape((20,)))\n",
    "print(a.reshape((20,1)))\n",
    "print(a.reshape((2,10)))\n",
    "print(a.reshape((5,2,2)))"
   ]
  },
  {
   "cell_type": "code",
   "execution_count": 98,
   "metadata": {},
   "outputs": [
    {
     "name": "stdout",
     "output_type": "stream",
     "text": [
      "(4, 5)\n",
      "[[ 1  2]\n",
      " [ 3  4]\n",
      " [ 5  6]\n",
      " [ 7  8]\n",
      " [ 9 10]\n",
      " [11 12]\n",
      " [13 14]\n",
      " [15 16]\n",
      " [17 18]\n",
      " [19 20]]\n",
      "[ 1  2  3  4  5  6  7  8  9 10 11 12 13 14 15 16 17 18 19 20]\n",
      "[ 1  2  3  4  5  6  7  8  9 10 11 12 13 14 15 16 17 18 19 20]\n",
      "[  1   2 100   4   5   6   7   8   9  10  11  12  13  14  15  16  17  18\n",
      "  19  20]\n",
      "[  1   2 100   4   5   6   7   8   9  10  11  12  13  14  15  16  17  18\n",
      "  19  20]\n"
     ]
    }
   ],
   "source": [
    "a = np.array([[1,2,3,4,5],\n",
    "              [6,7,8,9,10],\n",
    "              [11,12,13,14,15],\n",
    "              [16,17,18,19,20]])\n",
    "print(a.shape)\n",
    "print(a.reshape(10,2))\n",
    "print(a.flatten())\n",
    "print(a.ravel())\n",
    "\n",
    "var1 = a.flatten()\n",
    "var1[2] = 100\n",
    "print(var1)\n",
    "\n",
    "var2 = a.ravel()\n",
    "var2[2] = 100\n",
    "print(var2)\n",
    "\n"
   ]
  },
  {
   "cell_type": "code",
   "execution_count": 101,
   "metadata": {},
   "outputs": [
    {
     "name": "stdout",
     "output_type": "stream",
     "text": [
      "[[ 1  2  3  4  5]\n",
      " [ 6  7  8  9 10]\n",
      " [11 12 13 14 15]\n",
      " [16 17 18 19 20]]\n",
      "[[ 1  6 11 16]\n",
      " [ 2  7 12 17]\n",
      " [ 3  8 13 18]\n",
      " [ 4  9 14 19]\n",
      " [ 5 10 15 20]]\n",
      "[[ 1  6 11 16]\n",
      " [ 2  7 12 17]\n",
      " [ 3  8 13 18]\n",
      " [ 4  9 14 19]\n",
      " [ 5 10 15 20]]\n"
     ]
    }
   ],
   "source": [
    "a = np.array([[1,2,3,4,5],\n",
    "              [6,7,8,9,10],\n",
    "              [11,12,13,14,15],\n",
    "              [16,17,18,19,20]])\n",
    "print(a)\n",
    "print(a.T)\n",
    "print(a.swapaxes(0,1))"
   ]
  },
  {
   "cell_type": "code",
   "execution_count": null,
   "metadata": {},
   "outputs": [],
   "source": []
  }
 ],
 "metadata": {
  "kernelspec": {
   "display_name": "Python 3",
   "language": "python",
   "name": "python3"
  },
  "language_info": {
   "codemirror_mode": {
    "name": "ipython",
    "version": 3
   },
   "file_extension": ".py",
   "mimetype": "text/x-python",
   "name": "python",
   "nbconvert_exporter": "python",
   "pygments_lexer": "ipython3",
   "version": "3.11.8"
  }
 },
 "nbformat": 4,
 "nbformat_minor": 2
}
