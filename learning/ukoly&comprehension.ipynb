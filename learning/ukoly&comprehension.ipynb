{
 "cells": [
  {
   "cell_type": "markdown",
   "metadata": {},
   "source": [
    "Napište program, která obsahuje v proměnné správné jméno nějaké osoby. Program se vás zeptá na to, jak se osoba jmenuje. Pokud napíšete správné jméno, tak vám program vypíše větu \"Jsem rád/a, že si mě pamatuješ\". Pokud napíšete jméno špatně, tak vám osoba vyhubuje."
   ]
  },
  {
   "cell_type": "code",
   "execution_count": 3,
   "metadata": {},
   "outputs": [
    {
     "name": "stdout",
     "output_type": "stream",
     "text": [
      "Špatně\n"
     ]
    }
   ],
   "source": [
    "jmeno = \"Pavel\"\n",
    "zadej = input(\"Zadej jmeno: \")\n",
    "if zadej == \"Pavel\":\n",
    "    print(\"Jsem rad ,že si mě pamatuješ\")\n",
    "else:\n",
    "    print(\"Špatně\")\n",
    "\n"
   ]
  },
  {
   "cell_type": "code",
   "execution_count": 15,
   "metadata": {},
   "outputs": [
    {
     "name": "stdout",
     "output_type": "stream",
     "text": [
      "sem rad že si mě pamatuješ\n"
     ]
    }
   ],
   "source": [
    "jmeno = \"Pavel\"\n",
    "veta = \"sem rad že si mě pamatuješ\"\n",
    "veta2 = \"Špatně\"\n",
    "intp = input(\"Zadej jmeno\").capitalize()\n",
    "zadej = veta if intp == jmeno else veta2\n",
    "print(zadej)"
   ]
  },
  {
   "cell_type": "markdown",
   "metadata": {},
   "source": [
    "Úkol HW2.2 - Sportka Napište program, který kontroluje výherní los. Uživatel zadá na klávesnici číslo svého losu a pokud jeho los vyhrál ve sportce, tak se vypíše hláška na obrazovku o vítězství. Ve sportce se losuje jen jedna číslice a to od 1 do 9. Los má také jen jednu číslici. Pro generování náhodného čísla použijte knihovnu random a její příkaz randint(min, max), kde min a max jsou rozmezí generování náhodného čísla."
   ]
  },
  {
   "cell_type": "code",
   "execution_count": 25,
   "metadata": {},
   "outputs": [
    {
     "name": "stdout",
     "output_type": "stream",
     "text": [
      "prohra\n"
     ]
    }
   ],
   "source": [
    "import random\n",
    "sportka = random.randint(1, 10)\n",
    "tip = int(input(\"Zadej čislo: \"))\n",
    "if tip == sportka:\n",
    "    print(\"vyhra\")\n",
    "else:\n",
    "    print(\"prohra\")"
   ]
  },
  {
   "cell_type": "code",
   "execution_count": 28,
   "metadata": {},
   "outputs": [
    {
     "name": "stdout",
     "output_type": "stream",
     "text": [
      "prohra\n"
     ]
    }
   ],
   "source": [
    "import random\n",
    "sportka = random.randint(1, 10)\n",
    "tip = int(input(\"Zadej čislo: \"))\n",
    "los = \"vyhra\" if tip == sportka else \"prohra\"\n",
    "print(los)"
   ]
  }
 ],
 "metadata": {
  "kernelspec": {
   "display_name": "Python 3",
   "language": "python",
   "name": "python3"
  },
  "language_info": {
   "codemirror_mode": {
    "name": "ipython",
    "version": 3
   },
   "file_extension": ".py",
   "mimetype": "text/x-python",
   "name": "python",
   "nbconvert_exporter": "python",
   "pygments_lexer": "ipython3",
   "version": "3.11.8"
  }
 },
 "nbformat": 4,
 "nbformat_minor": 2
}
