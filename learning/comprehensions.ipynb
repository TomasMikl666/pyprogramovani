{
 "cells": [
  {
   "cell_type": "markdown",
   "metadata": {},
   "source": [
    "Příklad1"
   ]
  },
  {
   "cell_type": "code",
   "execution_count": 1,
   "metadata": {},
   "outputs": [
    {
     "name": "stdout",
     "output_type": "stream",
     "text": [
      "apples\n",
      "banana\n",
      "strawberries\n"
     ]
    }
   ],
   "source": [
    "fruits = [\"apples\", \"banana\", \"strawberries\"]\n",
    "\n",
    "for fruit in fruits:\n",
    "    print(fruit)\n"
   ]
  },
  {
   "cell_type": "code",
   "execution_count": 3,
   "metadata": {},
   "outputs": [
    {
     "name": "stdout",
     "output_type": "stream",
     "text": [
      "apples\n",
      "banana\n",
      "strawberries\n"
     ]
    },
    {
     "data": {
      "text/plain": [
       "[None, None, None]"
      ]
     },
     "execution_count": 3,
     "metadata": {},
     "output_type": "execute_result"
    }
   ],
   "source": [
    "fruits = [\"apples\", \"banana\", \"strawberries\"]\n",
    "[print(fruit) for fruit in fruits]"
   ]
  },
  {
   "cell_type": "markdown",
   "metadata": {},
   "source": [
    "Příklad2\n"
   ]
  },
  {
   "cell_type": "code",
   "execution_count": 6,
   "metadata": {},
   "outputs": [
    {
     "name": "stdout",
     "output_type": "stream",
     "text": [
      "['APPLES', 'BANANA', 'STRAWBERRIES']\n"
     ]
    }
   ],
   "source": [
    "fruits = [\"apples\", \"banana\", \"strawberries\"]\n",
    "new_fruits = []\n",
    "\n",
    "for fruit in fruits:\n",
    "    fruit = fruit.upper()\n",
    "    new_fruits.append(fruit)\n",
    "fruits = new_fruits\n",
    "print(fruits)\n"
   ]
  },
  {
   "cell_type": "code",
   "execution_count": 8,
   "metadata": {},
   "outputs": [
    {
     "name": "stdout",
     "output_type": "stream",
     "text": [
      "['APPLES', 'BANANA', 'STRAWBERRIES']\n"
     ]
    }
   ],
   "source": [
    "fruits = [\"apples\", \"banana\", \"strawberries\"]\n",
    "fruits =[fruit.upper() for fruit in fruits]\n",
    "print(fruits)"
   ]
  },
  {
   "cell_type": "markdown",
   "metadata": {},
   "source": [
    "Příklad3"
   ]
  },
  {
   "cell_type": "code",
   "execution_count": 9,
   "metadata": {},
   "outputs": [
    {
     "name": "stdout",
     "output_type": "stream",
     "text": [
      "[False, True, False, False, True, False, False, True]\n",
      "[0, 1, 0, 0, 1, 0, 0, 1]\n"
     ]
    }
   ],
   "source": [
    "bits = [False,True,False,False,True,False,False,True]\n",
    "new_bits = []\n",
    "\n",
    "for b in bits:\n",
    "    if b == True:\n",
    "        new_bits.append(1)\n",
    "    else:\n",
    "        new_bits.append(0)\n",
    "print(bits)\n",
    "print(new_bits)"
   ]
  },
  {
   "cell_type": "code",
   "execution_count": 10,
   "metadata": {},
   "outputs": [
    {
     "name": "stdout",
     "output_type": "stream",
     "text": [
      "[False, True, False, False, True, False, False, True]\n",
      "[0, 1, 0, 0, 1, 0, 0, 1]\n"
     ]
    }
   ],
   "source": [
    "bits = [False,True,False,False,True,False,False,True]\n",
    "\n",
    "super_bits =[1 if b == True else 0 for b in bits ]\n",
    "\n",
    "print(bits)\n",
    "print(super_bits)"
   ]
  },
  {
   "cell_type": "markdown",
   "metadata": {},
   "source": [
    "Příklad4"
   ]
  },
  {
   "cell_type": "code",
   "execution_count": 15,
   "metadata": {},
   "outputs": [
    {
     "name": "stdout",
     "output_type": "stream",
     "text": [
      "Hello Mynameis Tomas\n"
     ]
    }
   ],
   "source": [
    "my_string= \"HelloMyNameIsTomas\"\n",
    "my_string= \"\".join(\n",
    "    [i if i.islower() else \"\" + i.lower() if i in [\"N\",\"I\"] else \" \" + i for i in my_string]\n",
    "    )[1:]\n",
    "print(my_string)"
   ]
  },
  {
   "cell_type": "markdown",
   "metadata": {},
   "source": [
    "Příklad5"
   ]
  },
  {
   "cell_type": "code",
   "execution_count": 23,
   "metadata": {},
   "outputs": [
    {
     "name": "stdout",
     "output_type": "stream",
     "text": [
      "[3, 6, 9, 12, 15, 18]\n"
     ]
    }
   ],
   "source": [
    "nums = [1,2,3,4,5,6]\n",
    "result = []\n",
    "for i in nums:\n",
    "    i=i*3\n",
    "    result.append(i)\n",
    "print(result)"
   ]
  },
  {
   "cell_type": "code",
   "execution_count": 21,
   "metadata": {},
   "outputs": [
    {
     "name": "stdout",
     "output_type": "stream",
     "text": [
      "[3, 6, 9, 12, 15, 18]\n"
     ]
    }
   ],
   "source": [
    "nums = [1,2,3,4,5,6]\n",
    "result = [i*3 for i in nums]\n",
    "print(result)"
   ]
  },
  {
   "cell_type": "markdown",
   "metadata": {},
   "source": [
    "Příklad6"
   ]
  },
  {
   "cell_type": "code",
   "execution_count": 28,
   "metadata": {},
   "outputs": [
    {
     "name": "stdout",
     "output_type": "stream",
     "text": [
      "['INTRO', 'TO', 'LIST', 'COMPS']\n"
     ]
    }
   ],
   "source": [
    "strings = [\"intro\", \"to\", \"list\",\"comps\"]\n",
    "result = []\n",
    "for i in strings:\n",
    "    i = i.upper()\n",
    "    result.append(i)\n",
    "print(result)"
   ]
  },
  {
   "cell_type": "code",
   "execution_count": 29,
   "metadata": {},
   "outputs": [
    {
     "name": "stdout",
     "output_type": "stream",
     "text": [
      "['INTRO hey', 'TO hey', 'LIST hey', 'COMPS hey']\n"
     ]
    }
   ],
   "source": [
    "strings = [\"intro\", \"to\", \"list\",\"comps\"]\n",
    "result = [i.upper() + \" hey\" for i in strings]\n",
    "\n",
    "print(result)"
   ]
  },
  {
   "cell_type": "markdown",
   "metadata": {},
   "source": [
    "Příklad7"
   ]
  },
  {
   "cell_type": "code",
   "execution_count": 36,
   "metadata": {},
   "outputs": [
    {
     "name": "stdout",
     "output_type": "stream",
     "text": [
      "[5, 10, 15, 20, 25, 30]\n"
     ]
    }
   ],
   "source": [
    "def timesFive(num):\n",
    "    return num * 5\n",
    "result = []\n",
    "for i in nums:\n",
    "    i = timesFive(i)\n",
    "    result.append(i)\n",
    "print(result)"
   ]
  },
  {
   "cell_type": "code",
   "execution_count": 38,
   "metadata": {},
   "outputs": [
    {
     "name": "stdout",
     "output_type": "stream",
     "text": [
      "[15, 20, 25, 30]\n"
     ]
    }
   ],
   "source": [
    "def timesFive(num):\n",
    "    return num * 5\n",
    "\n",
    "new_nums = [timesFive(i) for i in nums if i >2]\n",
    "print(new_nums)"
   ]
  },
  {
   "cell_type": "markdown",
   "metadata": {},
   "source": [
    "Příklad8\n"
   ]
  },
  {
   "cell_type": "code",
   "execution_count": 1,
   "metadata": {},
   "outputs": [
    {
     "name": "stdout",
     "output_type": "stream",
     "text": [
      "['John', 'Matt']\n"
     ]
    }
   ],
   "source": [
    "dicts = [{\"name\":\"John\"}, {\"name\":\"Matt\"}]\n",
    "result = []\n",
    "for i in dicts:\n",
    "    result.append(i['name'])\n",
    "print(result)"
   ]
  },
  {
   "cell_type": "code",
   "execution_count": 5,
   "metadata": {},
   "outputs": [
    {
     "name": "stdout",
     "output_type": "stream",
     "text": [
      "['John', 'Matt']\n"
     ]
    }
   ],
   "source": [
    "dicts = [{\"name\":\"John\"}, {\"name\":\"Matt\"}]\n",
    "result = [i['name'] for i in dicts]\n",
    "print(result)"
   ]
  },
  {
   "cell_type": "markdown",
   "metadata": {},
   "source": [
    "Příklad 9"
   ]
  },
  {
   "cell_type": "code",
   "execution_count": 9,
   "metadata": {},
   "outputs": [
    {
     "data": {
      "text/plain": [
       "[1, 2, 15]"
      ]
     },
     "execution_count": 9,
     "metadata": {},
     "output_type": "execute_result"
    }
   ],
   "source": [
    "list1 = [1,2,3]\n",
    "\n",
    "\n",
    "[i *5 if i == 3 else i for i in list1]"
   ]
  },
  {
   "cell_type": "code",
   "execution_count": 12,
   "metadata": {},
   "outputs": [
    {
     "name": "stdout",
     "output_type": "stream",
     "text": [
      "[10, 15]\n"
     ]
    }
   ],
   "source": [
    "list1 = [1,2,3]\n",
    "result = []\n",
    "for i in list1:\n",
    "    if i > 1:\n",
    "        i = i*5\n",
    "        result.append(i)\n",
    "print(result)"
   ]
  },
  {
   "cell_type": "code",
   "execution_count": 21,
   "metadata": {},
   "outputs": [
    {
     "name": "stdout",
     "output_type": "stream",
     "text": [
      "[2, 15]\n"
     ]
    }
   ],
   "source": [
    "cisla= [1,2,3]\n",
    "result = [cislo*5 if cislo == 3 else cislo for cislo in cisla if cislo> 1]\n",
    "print(result)"
   ]
  },
  {
   "cell_type": "markdown",
   "metadata": {},
   "source": [
    "Příklad 10"
   ]
  },
  {
   "cell_type": "code",
   "execution_count": 27,
   "metadata": {},
   "outputs": [
    {
     "name": "stdout",
     "output_type": "stream",
     "text": [
      "[(2, 'Apple'), (2, 'Peaches'), (2, 'Bananas'), (3, 'Apple'), (3, 'Peaches'), (3, 'Bananas'), (4, 'Apple'), (4, 'Peaches'), (4, 'Bananas')]\n"
     ]
    }
   ],
   "source": [
    "nums = [1,2,3,4]\n",
    "fruits = ['Apple', 'Peaches', 'Pears', 'Bananas']\n",
    "result = [(i,f) for i in nums if i > 1 for f in fruits] \n",
    "print(result)"
   ]
  },
  {
   "cell_type": "markdown",
   "metadata": {},
   "source": [
    "Příklad11"
   ]
  },
  {
   "cell_type": "code",
   "execution_count": 11,
   "metadata": {},
   "outputs": [
    {
     "name": "stdout",
     "output_type": "stream",
     "text": [
      "[6, 8, 12, 16, 18, 24, 24, 32]\n"
     ]
    }
   ],
   "source": []
  }
 ],
 "metadata": {
  "kernelspec": {
   "display_name": "Python 3",
   "language": "python",
   "name": "python3"
  },
  "language_info": {
   "codemirror_mode": {
    "name": "ipython",
    "version": 3
   },
   "file_extension": ".py",
   "mimetype": "text/x-python",
   "name": "python",
   "nbconvert_exporter": "python",
   "pygments_lexer": "ipython3",
   "version": "3.11.8"
  }
 },
 "nbformat": 4,
 "nbformat_minor": 2
}
