{
 "cells": [
  {
   "cell_type": "markdown",
   "metadata": {},
   "source": [
    "Příklad1"
   ]
  },
  {
   "cell_type": "code",
   "execution_count": 1,
   "metadata": {},
   "outputs": [
    {
     "name": "stdout",
     "output_type": "stream",
     "text": [
      "apples\n",
      "banana\n",
      "strawberries\n"
     ]
    }
   ],
   "source": [
    "fruits = [\"apples\", \"banana\", \"strawberries\"]\n",
    "\n",
    "for fruit in fruits:\n",
    "    print(fruit)\n"
   ]
  },
  {
   "cell_type": "code",
   "execution_count": 3,
   "metadata": {},
   "outputs": [
    {
     "name": "stdout",
     "output_type": "stream",
     "text": [
      "apples\n",
      "banana\n",
      "strawberries\n"
     ]
    },
    {
     "data": {
      "text/plain": [
       "[None, None, None]"
      ]
     },
     "execution_count": 3,
     "metadata": {},
     "output_type": "execute_result"
    }
   ],
   "source": [
    "fruits = [\"apples\", \"banana\", \"strawberries\"]\n",
    "[print(fruit) for fruit in fruits]"
   ]
  },
  {
   "cell_type": "markdown",
   "metadata": {},
   "source": [
    "Příklad2\n"
   ]
  },
  {
   "cell_type": "code",
   "execution_count": 6,
   "metadata": {},
   "outputs": [
    {
     "name": "stdout",
     "output_type": "stream",
     "text": [
      "['APPLES', 'BANANA', 'STRAWBERRIES']\n"
     ]
    }
   ],
   "source": [
    "fruits = [\"apples\", \"banana\", \"strawberries\"]\n",
    "new_fruits = []\n",
    "\n",
    "for fruit in fruits:\n",
    "    fruit = fruit.upper()\n",
    "    new_fruits.append(fruit)\n",
    "fruits = new_fruits\n",
    "print(fruits)\n"
   ]
  },
  {
   "cell_type": "code",
   "execution_count": 8,
   "metadata": {},
   "outputs": [
    {
     "name": "stdout",
     "output_type": "stream",
     "text": [
      "['APPLES', 'BANANA', 'STRAWBERRIES']\n"
     ]
    }
   ],
   "source": [
    "fruits = [\"apples\", \"banana\", \"strawberries\"]\n",
    "fruits =[fruit.upper() for fruit in fruits]\n",
    "print(fruits)"
   ]
  },
  {
   "cell_type": "markdown",
   "metadata": {},
   "source": [
    "Příklad3"
   ]
  },
  {
   "cell_type": "code",
   "execution_count": 9,
   "metadata": {},
   "outputs": [
    {
     "name": "stdout",
     "output_type": "stream",
     "text": [
      "[False, True, False, False, True, False, False, True]\n",
      "[0, 1, 0, 0, 1, 0, 0, 1]\n"
     ]
    }
   ],
   "source": [
    "bits = [False,True,False,False,True,False,False,True]\n",
    "new_bits = []\n",
    "\n",
    "for b in bits:\n",
    "    if b == True:\n",
    "        new_bits.append(1)\n",
    "    else:\n",
    "        new_bits.append(0)\n",
    "print(bits)\n",
    "print(new_bits)"
   ]
  },
  {
   "cell_type": "code",
   "execution_count": 10,
   "metadata": {},
   "outputs": [
    {
     "name": "stdout",
     "output_type": "stream",
     "text": [
      "[False, True, False, False, True, False, False, True]\n",
      "[0, 1, 0, 0, 1, 0, 0, 1]\n"
     ]
    }
   ],
   "source": [
    "bits = [False,True,False,False,True,False,False,True]\n",
    "\n",
    "super_bits =[1 if b == True else 0 for b in bits ]\n",
    "\n",
    "print(bits)\n",
    "print(super_bits)"
   ]
  },
  {
   "cell_type": "markdown",
   "metadata": {},
   "source": [
    "Příklad4"
   ]
  },
  {
   "cell_type": "code",
   "execution_count": 15,
   "metadata": {},
   "outputs": [
    {
     "name": "stdout",
     "output_type": "stream",
     "text": [
      "Hello Mynameis Tomas\n"
     ]
    }
   ],
   "source": [
    "my_string= \"HelloMyNameIsTomas\"\n",
    "my_string= \"\".join(\n",
    "    [i if i.islower() else \"\" + i.lower() if i in [\"N\",\"I\"] else \" \" + i for i in my_string]\n",
    "    )[1:]\n",
    "print(my_string)"
   ]
  },
  {
   "cell_type": "markdown",
   "metadata": {},
   "source": [
    "Příklad5"
   ]
  },
  {
   "cell_type": "code",
   "execution_count": 23,
   "metadata": {},
   "outputs": [
    {
     "name": "stdout",
     "output_type": "stream",
     "text": [
      "[3, 6, 9, 12, 15, 18]\n"
     ]
    }
   ],
   "source": [
    "nums = [1,2,3,4,5,6]\n",
    "result = []\n",
    "for i in nums:\n",
    "    i=i*3\n",
    "    result.append(i)\n",
    "print(result)"
   ]
  },
  {
   "cell_type": "code",
   "execution_count": 21,
   "metadata": {},
   "outputs": [
    {
     "name": "stdout",
     "output_type": "stream",
     "text": [
      "[3, 6, 9, 12, 15, 18]\n"
     ]
    }
   ],
   "source": [
    "nums = [1,2,3,4,5,6]\n",
    "result = [i*3 for i in nums]\n",
    "print(result)"
   ]
  },
  {
   "cell_type": "markdown",
   "metadata": {},
   "source": [
    "Příklad6"
   ]
  },
  {
   "cell_type": "code",
   "execution_count": 28,
   "metadata": {},
   "outputs": [
    {
     "name": "stdout",
     "output_type": "stream",
     "text": [
      "['INTRO', 'TO', 'LIST', 'COMPS']\n"
     ]
    }
   ],
   "source": [
    "strings = [\"intro\", \"to\", \"list\",\"comps\"]\n",
    "result = []\n",
    "for i in strings:\n",
    "    i = i.upper()\n",
    "    result.append(i)\n",
    "print(result)"
   ]
  },
  {
   "cell_type": "code",
   "execution_count": 29,
   "metadata": {},
   "outputs": [
    {
     "name": "stdout",
     "output_type": "stream",
     "text": [
      "['INTRO hey', 'TO hey', 'LIST hey', 'COMPS hey']\n"
     ]
    }
   ],
   "source": [
    "strings = [\"intro\", \"to\", \"list\",\"comps\"]\n",
    "result = [i.upper() + \" hey\" for i in strings]\n",
    "\n",
    "print(result)"
   ]
  },
  {
   "cell_type": "markdown",
   "metadata": {},
   "source": [
    "Příklad7"
   ]
  },
  {
   "cell_type": "code",
   "execution_count": 36,
   "metadata": {},
   "outputs": [
    {
     "name": "stdout",
     "output_type": "stream",
     "text": [
      "[5, 10, 15, 20, 25, 30]\n"
     ]
    }
   ],
   "source": [
    "def timesFive(num):\n",
    "    return num * 5\n",
    "result = []\n",
    "for i in nums:\n",
    "    i = timesFive(i)\n",
    "    result.append(i)\n",
    "print(result)"
   ]
  },
  {
   "cell_type": "code",
   "execution_count": 38,
   "metadata": {},
   "outputs": [
    {
     "name": "stdout",
     "output_type": "stream",
     "text": [
      "[15, 20, 25, 30]\n"
     ]
    }
   ],
   "source": [
    "def timesFive(num):\n",
    "    return num * 5\n",
    "\n",
    "new_nums = [timesFive(i) for i in nums if i >2]\n",
    "print(new_nums)"
   ]
  },
  {
   "cell_type": "markdown",
   "metadata": {},
   "source": [
    "Příklad8\n"
   ]
  },
  {
   "cell_type": "code",
   "execution_count": 1,
   "metadata": {},
   "outputs": [
    {
     "name": "stdout",
     "output_type": "stream",
     "text": [
      "['John', 'Matt']\n"
     ]
    }
   ],
   "source": [
    "dicts = [{\"name\":\"John\"}, {\"name\":\"Matt\"}]\n",
    "result = []\n",
    "for i in dicts:\n",
    "    result.append(i['name'])\n",
    "print(result)"
   ]
  },
  {
   "cell_type": "code",
   "execution_count": 5,
   "metadata": {},
   "outputs": [
    {
     "name": "stdout",
     "output_type": "stream",
     "text": [
      "['John', 'Matt']\n"
     ]
    }
   ],
   "source": [
    "dicts = [{\"name\":\"John\"}, {\"name\":\"Matt\"}]\n",
    "result = [i['name'] for i in dicts]\n",
    "print(result)"
   ]
  },
  {
   "cell_type": "markdown",
   "metadata": {},
   "source": [
    "Příklad 9"
   ]
  },
  {
   "cell_type": "code",
   "execution_count": 9,
   "metadata": {},
   "outputs": [
    {
     "data": {
      "text/plain": [
       "[1, 2, 15]"
      ]
     },
     "execution_count": 9,
     "metadata": {},
     "output_type": "execute_result"
    }
   ],
   "source": [
    "list1 = [1,2,3]\n",
    "\n",
    "\n",
    "[i *5 if i == 3 else i for i in list1]"
   ]
  },
  {
   "cell_type": "code",
   "execution_count": 12,
   "metadata": {},
   "outputs": [
    {
     "name": "stdout",
     "output_type": "stream",
     "text": [
      "[10, 15]\n"
     ]
    }
   ],
   "source": [
    "list1 = [1,2,3]\n",
    "result = []\n",
    "for i in list1:\n",
    "    if i > 1:\n",
    "        i = i*5\n",
    "        result.append(i)\n",
    "print(result)"
   ]
  },
  {
   "cell_type": "code",
   "execution_count": 21,
   "metadata": {},
   "outputs": [
    {
     "name": "stdout",
     "output_type": "stream",
     "text": [
      "[2, 15]\n"
     ]
    }
   ],
   "source": [
    "cisla= [1,2,3]\n",
    "result = [cislo*5 if cislo == 3 else cislo for cislo in cisla if cislo> 1]\n",
    "print(result)"
   ]
  },
  {
   "cell_type": "markdown",
   "metadata": {},
   "source": [
    "Příklad 10"
   ]
  },
  {
   "cell_type": "code",
   "execution_count": 1,
   "metadata": {},
   "outputs": [
    {
     "name": "stdout",
     "output_type": "stream",
     "text": [
      "[(2, 'Apple'), (2, 'Peaches'), (2, 'Pears'), (2, 'Bananas'), (3, 'Apple'), (3, 'Peaches'), (3, 'Pears'), (3, 'Bananas'), (4, 'Apple'), (4, 'Peaches'), (4, 'Pears'), (4, 'Bananas')]\n"
     ]
    }
   ],
   "source": [
    "nums = [1,2,3,4]\n",
    "fruits = ['Apple', 'Peaches', 'Pears', 'Bananas']\n",
    "result = [(i,f) for i in nums if i > 1 for f in fruits] \n",
    "print(result)"
   ]
  },
  {
   "cell_type": "markdown",
   "metadata": {},
   "source": [
    "Příklad11"
   ]
  },
  {
   "cell_type": "code",
   "execution_count": 7,
   "metadata": {},
   "outputs": [
    {
     "name": "stdout",
     "output_type": "stream",
     "text": [
      "[2, 4, 6, 8]\n",
      "[2, 4, 6, 8]\n"
     ]
    }
   ],
   "source": [
    "a = [1,2,3,4]\n",
    "#bez map funkce\n",
    "comp1 = [x*2 for x in a]\n",
    "print(comp1)\n",
    "# s map funkcí\n",
    "comp2 = list(map(lambda x: x*2,a))\n",
    "print(comp2)\n"
   ]
  },
  {
   "cell_type": "code",
   "execution_count": 12,
   "metadata": {},
   "outputs": [
    {
     "name": "stdout",
     "output_type": "stream",
     "text": [
      "[2, 3, 4]\n",
      "[2, 3, 4]\n"
     ]
    }
   ],
   "source": [
    "a = [1,2,3,4]\n",
    "c = [(x) for x in [1,2,3,4] if x >1]\n",
    "#Or\n",
    "d = list(filter(lambda x: x>1, map(int, [1,2,3,4])))\n",
    "print(c)\n",
    "print(d)"
   ]
  },
  {
   "cell_type": "code",
   "execution_count": 21,
   "metadata": {},
   "outputs": [
    {
     "name": "stdout",
     "output_type": "stream",
     "text": [
      "[3, 4, 5]\n",
      "[3, 4, 5]\n"
     ]
    }
   ],
   "source": [
    "a = [1,2,3,4,5]\n",
    "#Lambdu používáme jen pokud není funkce!!!\n",
    "def grTwo(i):\n",
    "    return i>2\n",
    "\n",
    "c = [i for i in a if grTwo(i)]\n",
    "print(c)\n",
    "#or\n",
    "f = list(filter(grTwo,a))\n",
    "print(f)\n"
   ]
  },
  {
   "cell_type": "code",
   "execution_count": 30,
   "metadata": {},
   "outputs": [
    {
     "name": "stdout",
     "output_type": "stream",
     "text": [
      "[1, 2, True, 'hey']\n",
      "[1, 2, True, 'hey']\n"
     ]
    }
   ],
   "source": [
    "f=list(filter(None, [0,1,2, True, False,\"\",'hey']))\n",
    "print(f)\n",
    "c =[i for i in [0,1,2, True, False,\"\",\"hey\"] if bool(i) != bool(None)]\n",
    "print(c)"
   ]
  },
  {
   "cell_type": "code",
   "execution_count": 44,
   "metadata": {},
   "outputs": [
    {
     "data": {
      "text/plain": [
       "0.6890190998092294"
      ]
     },
     "execution_count": 44,
     "metadata": {},
     "output_type": "execute_result"
    }
   ],
   "source": [
    "from timeit import timeit\n",
    "# Sice to dělá to samý ale způsob list je mnohem rychlejší\n",
    "#timeit(\"list(filter(None, [0,1,2, True, False]))\")\n",
    "timeit(\"[i for i in [0,1,2, True, False] if bool(i) != bool(None)]\")\n"
   ]
  },
  {
   "cell_type": "code",
   "execution_count": 4,
   "metadata": {},
   "outputs": [
    {
     "name": "stdout",
     "output_type": "stream",
     "text": [
      "[1, 2, 1, 2, 1, 2]\n"
     ]
    }
   ],
   "source": [
    "b = [[1,2] , [1,2], [1,2]]\n",
    "a =[i for sublist in b for i in sublist]\n",
    "print(a)\n",
    "\n"
   ]
  },
  {
   "cell_type": "code",
   "execution_count": 7,
   "metadata": {},
   "outputs": [
    {
     "data": {
      "text/plain": [
       "10"
      ]
     },
     "execution_count": 7,
     "metadata": {},
     "output_type": "execute_result"
    }
   ],
   "source": [
    "from functools import reduce\n",
    "reduce(lambda x,y:x+y, [1,2,3,4])"
   ]
  },
  {
   "cell_type": "code",
   "execution_count": 11,
   "metadata": {},
   "outputs": [
    {
     "name": "stdout",
     "output_type": "stream",
     "text": [
      "4\n",
      "4\n"
     ]
    }
   ],
   "source": [
    "from functools import reduce\n",
    "a= reduce(lambda x,y: x if x >y else y, [1,2,3,4])\n",
    "#or\n",
    "b = max([i for i in [1,2,3,4]])\n",
    "print(a)\n",
    "print(b)"
   ]
  },
  {
   "cell_type": "code",
   "execution_count": 12,
   "metadata": {},
   "outputs": [
    {
     "data": {
      "text/plain": [
       "6"
      ]
     },
     "execution_count": 12,
     "metadata": {},
     "output_type": "execute_result"
    }
   ],
   "source": [
    "#Reduce potřebuje 2 argumenty , tedy 'a' a 'b'\n",
    "def addTwo(a,b):\n",
    "    return a+b\n",
    "\n",
    "reduce(addTwo, [1,2,3])"
   ]
  },
  {
   "cell_type": "code",
   "execution_count": 22,
   "metadata": {},
   "outputs": [
    {
     "name": "stdout",
     "output_type": "stream",
     "text": [
      "{'Brendan'}\n"
     ]
    }
   ],
   "source": [
    "a = {'jack' :38,'michael':48,'guido':57,'john':33}\n",
    "b = {k if k=='Jack' else 'Brendan'for k,i in a.items()}\n",
    "print(b)"
   ]
  },
  {
   "cell_type": "code",
   "execution_count": 23,
   "metadata": {},
   "outputs": [
    {
     "name": "stdout",
     "output_type": "stream",
     "text": [
      "{'jack': 'young', 'michael': 'old', 'guido': 'old', 'john': 'young'}\n"
     ]
    }
   ],
   "source": [
    "a = {'jack' :38,'michael':48,'guido':57,'john':33}\n",
    "b = {k:('old' if v > 40 else 'young')for k,v in a.items()}\n",
    "print(b)"
   ]
  },
  {
   "cell_type": "code",
   "execution_count": 25,
   "metadata": {},
   "outputs": [
    {
     "name": "stdout",
     "output_type": "stream",
     "text": [
      "{'jack': 'young', 'Brendan': 'young'}\n"
     ]
    }
   ],
   "source": [
    "a = {'jack' :38,'michael':48,'guido':57,'john':33}\n",
    "b = {(k if k=='jack'else 'Brendan'):('old' if v >40 else 'young') for k,v in a.items()}\n",
    "print(b)"
   ]
  },
  {
   "cell_type": "code",
   "execution_count": 26,
   "metadata": {},
   "outputs": [
    {
     "data": {
      "text/plain": [
       "[(1, 'Peaches'),\n",
       " (1, 'Apple'),\n",
       " (1, 'Pears'),\n",
       " (1, 'Oranges'),\n",
       " (2, 'Peaches'),\n",
       " (2, 'Apple'),\n",
       " (2, 'Pears'),\n",
       " (2, 'Oranges'),\n",
       " (3, 'Peaches'),\n",
       " (3, 'Apple'),\n",
       " (3, 'Pears'),\n",
       " (3, 'Oranges'),\n",
       " (4, 'Peaches'),\n",
       " (4, 'Apple'),\n",
       " (4, 'Pears'),\n",
       " (4, 'Oranges')]"
      ]
     },
     "execution_count": 26,
     "metadata": {},
     "output_type": "execute_result"
    }
   ],
   "source": [
    "nums = [1,2,3,4]\n",
    "fruits = ['Peaches','Apple','Pears','Oranges']\n",
    "[(i,f) for i in nums for f in fruits]"
   ]
  },
  {
   "cell_type": "code",
   "execution_count": 28,
   "metadata": {},
   "outputs": [
    {
     "data": {
      "text/plain": [
       "[12, 3, 55, 5, 5, 5]"
      ]
     },
     "execution_count": 28,
     "metadata": {},
     "output_type": "execute_result"
    }
   ],
   "source": [
    "a = [[12,3],[55],[5,5,5]]\n",
    "[item for sublist in a for item in sublist]"
   ]
  },
  {
   "cell_type": "code",
   "execution_count": 44,
   "metadata": {},
   "outputs": [
    {
     "name": "stdout",
     "output_type": "stream",
     "text": [
      "[(1, 'Peaches'), (1, 'Apple'), (1, 'Pears'), (1, 'Oranges'), (2, 'Peaches'), (2, 'Apple'), (2, 'Pears'), (2, 'Oranges'), (3, 'Peaches'), (3, 'Apple'), (3, 'Pears'), (3, 'Oranges'), (4, 'Peaches'), (4, 'Apple'), (4, 'Pears'), (4, 'Oranges')]\n",
      "[{1, 'Peaches'}, {1, 'Apple'}, {1, 'Pears'}, {'Oranges', 1}, {2, 'Peaches'}, {2, 'Apple'}, {2, 'Pears'}, {'Oranges', 2}, {3, 'Peaches'}, {'Apple', 3}, {3, 'Pears'}, {'Oranges', 3}, {4, 'Peaches'}, {'Apple', 4}, {'Pears', 4}, {'Oranges', 4}]\n",
      "[{1: 'Peaches'}, {1: 'Apple'}, {1: 'Pears'}, {1: 'Oranges'}, {2: 'Peaches'}, {2: 'Apple'}, {2: 'Pears'}, {2: 'Oranges'}, {3: 'Peaches'}, {3: 'Apple'}, {3: 'Pears'}, {3: 'Oranges'}, {4: 'Peaches'}, {4: 'Apple'}, {4: 'Pears'}, {4: 'Oranges'}]\n"
     ]
    }
   ],
   "source": [
    "nums = [1,2,3,4]\n",
    "fruits = ['Peaches','Apple','Pears','Oranges']\n",
    "a=[(i,f) for i in nums for f in fruits]\n",
    "b=[set([i,f]) for i in nums for f in fruits]\n",
    "c=[{i:f} for i in nums for f in fruits]\n",
    "print(a)\n",
    "print(b)\n",
    "print(c)"
   ]
  },
  {
   "cell_type": "code",
   "execution_count": 45,
   "metadata": {},
   "outputs": [
    {
     "data": {
      "text/plain": [
       "[(1, 'Peaches'), (2, 'Apple'), (3, 'Pears'), (4, 'Oranges')]"
      ]
     },
     "execution_count": 45,
     "metadata": {},
     "output_type": "execute_result"
    }
   ],
   "source": [
    "nums = [1,2,3,4]\n",
    "fruits = ['Peaches','Apple','Pears','Oranges']\n",
    "list(zip(nums,fruits))\n"
   ]
  },
  {
   "cell_type": "code",
   "execution_count": 58,
   "metadata": {},
   "outputs": [
    {
     "name": "stdout",
     "output_type": "stream",
     "text": [
      "0\n",
      "1\n",
      "2\n",
      "3\n",
      "[0, 1, 2, 3]\n",
      "0\n",
      "1\n",
      "2\n",
      "3\n"
     ]
    },
    {
     "data": {
      "text/plain": [
       "[0, 1, 2, 3]"
      ]
     },
     "execution_count": 58,
     "metadata": {},
     "output_type": "execute_result"
    }
   ],
   "source": [
    "def printval(val):\n",
    "    print(val)\n",
    "    return val\n",
    "#1 zpusob\n",
    "[printval(i) for i in range(4)]\n",
    "#2zpusob\n",
    "print([i for i in range(4)])\n",
    "#3zpusob\n",
    "[print(i) or i for i in range(4)]\n"
   ]
  }
 ],
 "metadata": {
  "kernelspec": {
   "display_name": "Python 3",
   "language": "python",
   "name": "python3"
  },
  "language_info": {
   "codemirror_mode": {
    "name": "ipython",
    "version": 3
   },
   "file_extension": ".py",
   "mimetype": "text/x-python",
   "name": "python",
   "nbconvert_exporter": "python",
   "pygments_lexer": "ipython3",
   "version": "3.11.8"
  }
 },
 "nbformat": 4,
 "nbformat_minor": 2
}
