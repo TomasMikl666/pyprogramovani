{
 "cells": [
  {
   "cell_type": "markdown",
   "metadata": {},
   "source": [
    "FUNKCE\n",
    "Během programování se vám stane, že občas potřebujete nějaký váš algoritmus (logická sekvence příkazů) opakovat ve více částech kódu než jen v jednom cyklu. Takové algoritmy dáváme do struktury, která se nazývá funkce. Funkce je struktura, do které obdobně jako v matice vložíte nějaké vstupní argumenty a ona vám vrátí nějakou návratovou hodnotu. Zavolání funkce pro získání její návratové hodnoty vidíte v následujícím kódu:"
   ]
  },
  {
   "cell_type": "code",
   "execution_count": 1,
   "metadata": {},
   "outputs": [
    {
     "name": "stdout",
     "output_type": "stream",
     "text": [
      "6\n"
     ]
    }
   ],
   "source": [
    "def secti_cisla(seznam):    #definice funkce\n",
    "    soucet = 0\n",
    "    for cislo in seznam:\n",
    "        soucet += cislo\n",
    "    return soucet           #návratová hodnota\n",
    "\n",
    "vysledek_souctu = secti_cisla([1, 2, 3]) #volání funkce s argumentem [1, 2, 3]\n",
    "print(vysledek_souctu)"
   ]
  },
  {
   "cell_type": "markdown",
   "metadata": {},
   "source": [
    "Funkce je tzv. podprogram, tedy část programu, která je samostatně existovatelná. Její závislost na vnějším světě by byla být co nejmenší, ideálně žádná. To zaručují parametry funkce. Parametry funkce nalezneme v definici funkce. Název parametrů je zcela na nás. Za parametry se dosazují konkrétní argumenty."
   ]
  },
  {
   "cell_type": "code",
   "execution_count": 8,
   "metadata": {},
   "outputs": [
    {
     "name": "stdout",
     "output_type": "stream",
     "text": [
      "8\n"
     ]
    }
   ],
   "source": [
    "#                          parametry\n",
    "def secti_dve_cisla(cislo_prvni, cislo_druhe):\n",
    "    vysledek_souctu = cislo_prvni + cislo_druhe\n",
    "    return vysledek_souctu\n",
    "\n",
    "a = 5\n",
    "b = 3\n",
    "#                      argumenty\n",
    "soucet = secti_dve_cisla(a, b)\n",
    "print(soucet)"
   ]
  },
  {
   "cell_type": "markdown",
   "metadata": {},
   "source": [
    "Jak vám asi došlo, pro správnou funkčnost funkcí je nutné dodržovat přesné pořadí argumentů (tzv. args). Ještě je možnost nedodržet pořadí, pak můžeme zadat argumenty pomocí předpisu parametrů, za které je chceme dosadit (takzvané argumenty klíčovým slovem - keyword arguments, kwargs). Dokonce lze i míchat argumenty typu args a kwargs, ale musí být dodrženo pravidlo, že args předchází kwargs."
   ]
  },
  {
   "cell_type": "code",
   "execution_count": 11,
   "metadata": {},
   "outputs": [
    {
     "name": "stdout",
     "output_type": "stream",
     "text": [
      "8\n"
     ]
    }
   ],
   "source": [
    "def secti_dve_cisla(cislo_prvni, cislo_druhe):\n",
    "    vysledek_souctu = cislo_prvni + cislo_druhe\n",
    "    return vysledek_souctu\n",
    "\n",
    "a = 5\n",
    "b = 3\n",
    "#                       arg,     kwarg\n",
    "soucet = secti_dve_cisla(a, cislo_druhe=b)\n",
    "print(soucet)"
   ]
  },
  {
   "cell_type": "markdown",
   "metadata": {},
   "source": [
    "Python je jazyk, která je dynamicky typovaný, tzn. narozdíl od staticky typovaných jazyků nemusíme předem psát, že do proměnné budeme ukládat pouze data typu celé číslo, řetězec, aj. Občas mohou některé funkce vykonat chybný kód, pokud do nich vložíme argumenty, které nejsou pro ně vhodné. Proto existuje v Pythonu možnost napovídání typů, tzv. type-hinting. Napovídáním typů píšeme pro nás v budoucnu a další programátory v týmu, jaké datové typy argumentů mají vložit, pokud chtějí, aby funkce neskončila chybovým voláním (tzv. výjimkou). Lze psát typy jak pro argumenty (píšou se k parametrům funkce), tak jakého typu bude návratová hodnota. Python neobsahuje příliš typů (chybí volatelná funkce tzv. Callable typ) nebo jsou příliš obecné (například seznam jako list, ale nelze zvolit jaké typy mají být v seznamu). Pokud byste potřebovali složitější typy, pak se nachází v modulu typing. Kromě napovídání typů mohou paramety mít i svou implicitní (default) hodnotu, pokud za ně nevložíme žádný argument."
   ]
  },
  {
   "cell_type": "code",
   "execution_count": 15,
   "metadata": {},
   "outputs": [
    {
     "name": "stdout",
     "output_type": "stream",
     "text": [
      "3.2\n"
     ]
    }
   ],
   "source": [
    "def secti_dve_cisla(cislo_prvni: float, cislo_druhe: float = 0.0) -> float:\n",
    "    vysledek_souctu = cislo_prvni + cislo_druhe\n",
    "    return vysledek_souctu\n",
    "\n",
    "soucet = secti_dve_cisla(cislo_prvni = 3.2)\n",
    "print(soucet)"
   ]
  },
  {
   "cell_type": "markdown",
   "metadata": {},
   "source": [
    "Kromě funkcí existují i speciální podprogramy, které se nazývají procedury. Procedury jsou funkce, které nemají návratovou hodnotu. Provedou pouze algoritmus. Pokud nebudeme používat příkazy jako global, tak nemají schopnost příliš měnit svůj svět a pak jsou neškodné. Někteří lidé je však používají pro změnu hodnot proměnných mimo svůj blok podprogramu, tedy mění stav systému (hodnoty proměnných). To je velice nebezpečná technika, proto vznikl paradigmat funkcionální programování, které procedury absolutně vylučuje. My budeme procedury používat zejména pro výpis na obrazovku nebo provádění nějakých úkonů od databáze (ulož data do databáze, smaž data z databáze, atd.). K proceduře můžeme dát nápovědu typu jako None, jelikož nic nevrací."
   ]
  },
  {
   "cell_type": "code",
   "execution_count": null,
   "metadata": {},
   "outputs": [],
   "source": [
    "def pozdrav(koho: str) -> None:\n",
    "    print(f\"Ahoj {koho}\")\n",
    "\n",
    "pozdrav(koho=\"Jarmila\")"
   ]
  },
  {
   "cell_type": "markdown",
   "metadata": {},
   "source": [
    "OS6.1: Která písmena jsou velká?\n",
    "\n",
    "Napište funkci, do které vložíte řetězec a vrátí se vám seznam velkých písmen."
   ]
  },
  {
   "cell_type": "code",
   "execution_count": null,
   "metadata": {},
   "outputs": [],
   "source": [
    "def vrat_velka_pismena(retezec: str) -> list:\n",
    "    velka_pismena = []\n",
    "    for pismeno in retezec:\n",
    "        if pismeno.isupper():\n",
    "            velka_pismena.append(pismeno)\n",
    "    return velka_pismena\n",
    "\n",
    "print(vrat_velka_pismena(\"Ahoj Jak Se Mas Terezo?\"))"
   ]
  },
  {
   "cell_type": "markdown",
   "metadata": {},
   "source": [
    "OS6.2: Vyhledání pozice slova\n",
    "\n",
    "Napište funkci, která vrátí index prvku, který vyhledáváte. Nepoužívejte předpřipravenou funkci index nad seznamem."
   ]
  },
  {
   "cell_type": "code",
   "execution_count": 26,
   "metadata": {},
   "outputs": [
    {
     "name": "stdout",
     "output_type": "stream",
     "text": [
      "3\n"
     ]
    }
   ],
   "source": [
    "#př.: get_index([g,f,a,f,h], a) -> 2\n",
    "def vrat_index_prvku(prvky: list, hledany_prvek: any) -> int:\n",
    "    for idx in range(len(prvky)):\n",
    "        if prvky[idx] == hledany_prvek:\n",
    "            return idx\n",
    "\n",
    "print(vrat_index_prvku([1,2,3,4,5,6], 4))"
   ]
  },
  {
   "cell_type": "markdown",
   "metadata": {},
   "source": [
    "OS6.3 - Řada lichých čísel\n",
    "\n",
    "Napište funkci, do které vložíte počáteční a konečný prvek z číselné řady a program vám vrátí všechna lichá čísla z této řady."
   ]
  },
  {
   "cell_type": "code",
   "execution_count": 33,
   "metadata": {},
   "outputs": [
    {
     "name": "stdout",
     "output_type": "stream",
     "text": [
      "[5, 7, 9, 11, 13, 15, 17, 19, 21, 23, 25, 27, 29, 31, 33, 35, 37, 39, 41, 43, 45, 47, 49]\n"
     ]
    }
   ],
   "source": [
    "#př.: get_licha(min=5,max=15) -> [5,7,9,11,13,15] \n",
    "def vrat_licha_cisla_rady(min_cislo: int, max_cislo: int) -> list:\n",
    "    licha_cisla = []\n",
    "    for cislo in range(min_cislo, max_cislo+1):\n",
    "        if cislo % 2 == 1:\n",
    "            licha_cisla.append(cislo)\n",
    "    return licha_cisla\n",
    "\n",
    "print(vrat_licha_cisla_rady(5, 50))"
   ]
  },
  {
   "cell_type": "markdown",
   "metadata": {},
   "source": [
    "OS6.4: Pretty printer matic\n",
    "\n",
    "Napište proceduru, která přijme 2D matici (seznam seznamů) a ve vhodné grafické textové podobě ji vypíše na obrazovku."
   ]
  },
  {
   "cell_type": "code",
   "execution_count": 35,
   "metadata": {},
   "outputs": [
    {
     "name": "stdout",
     "output_type": "stream",
     "text": [
      "X O O\n",
      "X _ _\n",
      "_ X _\n"
     ]
    }
   ],
   "source": [
    "def vytiskni_matici(matice: list) -> None:\n",
    "    for radek in matice:\n",
    "        print(\" \".join(radek))\n",
    "\n",
    "matice = [\n",
    "    [\"X\", \"O\", \"O\"],\n",
    "    [\"X\", \"_\", \"_\"],\n",
    "    [\"_\", \"X\", \"_\"] \n",
    "]\n",
    "\n",
    "vytiskni_matici(matice)"
   ]
  },
  {
   "cell_type": "markdown",
   "metadata": {},
   "source": [
    "OS6.5: Vykreslovací procedura\n",
    "\n",
    "Napište proceduru, která přijme seznam hodnot na ose y (řady) a k tomu popisky osy x. Následně vykreslí do jednoho grafu v knihovně matplotlib data na obrazovku. Tím budete mít připravenou proceduru jako náhražku Excelu."
   ]
  },
  {
   "cell_type": "code",
   "execution_count": 36,
   "metadata": {},
   "outputs": [
    {
     "data": {
      "image/png": "[encoded data removed]",
      "text/plain": [
       "<Figure size 640x480 with 1 Axes>"
      ]
     },
     "metadata": {},
     "output_type": "display_data"
    }
   ],
   "source": [
    "import matplotlib.pyplot as plt\n",
    "\n",
    "def vykresli_graf(kategorie: list, rady: list, nazev: str, \n",
    "                  nazev_osy_x: str, nazev_osy_y: str, styl_rad: list) -> None:\n",
    "    plt.title(nazev)\n",
    "    plt.xlabel(nazev_osy_x)\n",
    "    plt.ylabel(nazev_osy_y)\n",
    "    for irada, rada in enumerate(rady):\n",
    "        plt.plot(kategorie, rada, styl_rad[irada])\n",
    "    plt.show\n",
    "\n",
    "rady = [\n",
    "    [5, 6, 3, 1, 0],\n",
    "    [1, 2, 3, 4, 5],\n",
    "    [5, 4, 3, 2, 1],\n",
    "]    \n",
    "kategorie = [\"Po\", \"Ut\", \"St\", \"Ct\", \"Pa\"]\n",
    "styly = [\"ro\", \"b-\", \"g.-\"]\n",
    "vykresli_graf(\n",
    "    kategorie = kategorie, \n",
    "    rady = rady,\n",
    "    nazev = \"Graficek\",\n",
    "    nazev_osy_x = \"dny\", \n",
    "    nazev_osy_y = \"nejaka cisla\",\n",
    "    styl_rad = styly\n",
    ")"
   ]
  },
  {
   "cell_type": "markdown",
   "metadata": {},
   "source": [
    "HW6.1 - Registrace uživatele\n",
    "\n",
    "Napište proceduru, která vloží do seznamu tuple s loginem a heslem, pokud se login již nenacházi v seznamu uživatelů a heslo se liší od loginu.\n",
    "\n",
    "př.: registruj((jana, 896), [(jana, 123)(petr, heslo)] -> neregistruje\n",
    "\n",
    "př.: registruj((milan, milan), [(jana, 123)(petr, heslo)] -> neregistruje\n",
    "\n",
    "př.: registruj((milan, 896), [(jana, 123)(petr, heslo)] -> registruje"
   ]
  },
  {
   "cell_type": "code",
   "execution_count": 1,
   "metadata": {},
   "outputs": [
    {
     "name": "stdout",
     "output_type": "stream",
     "text": [
      "Nejste prihlasen\n"
     ]
    }
   ],
   "source": [
    "def prihlaseni(login:str,password:str) ->tuple:\n",
    "    seznam = [(\"jana\",\"896\"),(\"milan\",\"milan\"),(\"milan\",\"896\")]\n",
    "    for usr_login,usr_password in seznam:\n",
    "        if login == usr_login and password == usr_password:\n",
    "            return \"Jste přihlášen\"\n",
    "    return \"Nejste prihlasen\"\n",
    "\n",
    "login = input(\"Zadej login: \")\n",
    "password = input(\"Zadej heslo: \")\n",
    "print(prihlaseni(login,password))\n",
    "\n"
   ]
  },
  {
   "cell_type": "markdown",
   "metadata": {},
   "source": [
    "HW6.2: Validace hesla\n",
    "\n",
    "Napište funkci, která požádá uživatele o heslo a vrátí ho, pouze pokud heslo obsahuje alespoň 1 velké písmeno, 4 malé písmeno a alespoň 1 číslo. Pokud heslo neobsahuje tyto znaky, pak žádá o zadání hesla ještě 2x, jinak vypíše chybu printem a vrátí None."
   ]
  },
  {
   "cell_type": "code",
   "execution_count": 57,
   "metadata": {},
   "outputs": [
    {
     "name": "stdout",
     "output_type": "stream",
     "text": [
      "Heslo je silne\n",
      "True\n"
     ]
    }
   ],
   "source": [
    "def sila_hesla():\n",
    "    zadej_heslo = input(\"Zadej heslo: \")\n",
    "    pocet_znaku = 0\n",
    "    pocet_velkych_znaku = 0\n",
    "    pocet_cisel = 0\n",
    "   \n",
    "    for pismeno in zadej_heslo:\n",
    "        pocet_znaku += 1\n",
    "\n",
    "        if pismeno.isupper():\n",
    "            pocet_velkych_znaku += 1\n",
    "\n",
    "        if pismeno.isdigit():\n",
    "            pocet_cisel += 1\n",
    "    \n",
    "    return pocet_znaku, pocet_velkych_znaku, pocet_cisel\n",
    "\n",
    "pocet_znaku, pocet_velkych_znaku, pocet_cisel = sila_hesla()\n",
    "\n",
    "if pocet_znaku >= 4 and pocet_velkych_znaku >= 1 and pocet_cisel >= 1:\n",
    "    print(\"Heslo je silne\")\n",
    "    \n",
    "else:\n",
    "    print(\"Heslo neni silne, znovu\")\n",
    "    sila_hesla()\n",
    "    sila_hesla()\n",
    "    print(None)\n",
    "\n"
   ]
  },
  {
   "cell_type": "markdown",
   "metadata": {},
   "source": [
    "HW6.3: Nalezení písmen s háčky a čárkami\n",
    "\n",
    "Napište funkci, který nalezne všechna písmena ve větě, která obsahují háčky a čárky a vrátí seznam těchto písmen. Věta bude vstupem funkce.\n",
    "\n",
    "př.: nalezni_hacky_carky(\"čau jak se máš\") -> [č,á,š]"
   ]
  },
  {
   "cell_type": "code",
   "execution_count": 77,
   "metadata": {},
   "outputs": [
    {
     "name": "stdout",
     "output_type": "stream",
     "text": [
      "['č', 'á', 'š']\n"
     ]
    }
   ],
   "source": [
    "def nalezni_hacky_carky(veta):\n",
    "    hacky_carky = \"ěščřžýáíéúůóňťďľďĺ\"\n",
    "    nalezena_pismena = []\n",
    "\n",
    "    for znak in veta:\n",
    "        if znak in hacky_carky:\n",
    "            nalezena_pismena.append(znak)\n",
    "\n",
    "    return nalezena_pismena\n",
    "\n",
    "# Příklad použití\n",
    "veta = \"čau jak se máš\"\n",
    "vysledek = nalezni_hacky_carky(veta)\n",
    "print(vysledek)\n"
   ]
  }
 ],
 "metadata": {
  "kernelspec": {
   "display_name": "Python 3",
   "language": "python",
   "name": "python3"
  },
  "language_info": {
   "codemirror_mode": {
    "name": "ipython",
    "version": 3
   },
   "file_extension": ".py",
   "mimetype": "text/x-python",
   "name": "python",
   "nbconvert_exporter": "python",
   "pygments_lexer": "ipython3",
   "version": "3.11.8"
  }
 },
 "nbformat": 4,
 "nbformat_minor": 2
}
