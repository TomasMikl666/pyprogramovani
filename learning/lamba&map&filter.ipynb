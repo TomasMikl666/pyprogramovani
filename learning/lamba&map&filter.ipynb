{
 "cells": [
  {
   "cell_type": "markdown",
   "metadata": {},
   "source": [
    "Příklad1"
   ]
  },
  {
   "cell_type": "code",
   "execution_count": 5,
   "metadata": {},
   "outputs": [
    {
     "name": "stdout",
     "output_type": "stream",
     "text": [
      "8\n"
     ]
    }
   ],
   "source": [
    "def mx(x,y):\n",
    "    if x>y:\n",
    "        return x\n",
    "    else:\n",
    "        return y\n",
    "print(mx(8,5))"
   ]
  },
  {
   "cell_type": "code",
   "execution_count": 6,
   "metadata": {},
   "outputs": [
    {
     "name": "stdout",
     "output_type": "stream",
     "text": [
      "8\n"
     ]
    }
   ],
   "source": [
    "mx = lambda x,y: x if x > y else y\n",
    "print(mx(8,5))"
   ]
  },
  {
   "cell_type": "markdown",
   "metadata": {},
   "source": [
    "Cviceni"
   ]
  },
  {
   "cell_type": "code",
   "execution_count": 7,
   "metadata": {},
   "outputs": [
    {
     "name": "stdout",
     "output_type": "stream",
     "text": [
      "20\n"
     ]
    }
   ],
   "source": [
    "multiply = lambda x,y : x*y\n",
    "print(multiply(5,4))"
   ]
  },
  {
   "cell_type": "code",
   "execution_count": 11,
   "metadata": {},
   "outputs": [
    {
     "name": "stdout",
     "output_type": "stream",
     "text": [
      "16\n"
     ]
    }
   ],
   "source": [
    "power = lambda x,y: x**y\n",
    "print(power(4,2))"
   ]
  },
  {
   "cell_type": "markdown",
   "metadata": {},
   "source": [
    "MAP Příklad1\n"
   ]
  },
  {
   "cell_type": "code",
   "execution_count": 14,
   "metadata": {},
   "outputs": [
    {
     "name": "stdout",
     "output_type": "stream",
     "text": [
      "[16, 9, 4, 1]\n"
     ]
    }
   ],
   "source": [
    "def square (lst1):\n",
    "    lst2 = []\n",
    "    for num in lst1:\n",
    "        lst2.append(num**2)\n",
    "    return lst2\n",
    "print (square([4,3,2,1]))"
   ]
  },
  {
   "cell_type": "code",
   "execution_count": 15,
   "metadata": {},
   "outputs": [
    {
     "name": "stdout",
     "output_type": "stream",
     "text": [
      "[16, 9, 4, 1]\n"
     ]
    }
   ],
   "source": [
    "n =[4,3,2,1]\n",
    "print(list(map(lambda x:x**2,n)))"
   ]
  },
  {
   "cell_type": "code",
   "execution_count": 20,
   "metadata": {},
   "outputs": [
    {
     "name": "stdout",
     "output_type": "stream",
     "text": [
      "[16, 9, 4, 1]\n"
     ]
    }
   ],
   "source": [
    "n =[4,3,2,1]\n",
    "print([x**2 for x in n])"
   ]
  },
  {
   "cell_type": "markdown",
   "metadata": {},
   "source": [
    "Přiklad2 + filter"
   ]
  },
  {
   "cell_type": "code",
   "execution_count": 16,
   "metadata": {},
   "outputs": [
    {
     "name": "stdout",
     "output_type": "stream",
     "text": [
      "[4, 3]\n"
     ]
    }
   ],
   "source": [
    "def over_two(lst1):\n",
    "    lst2 = [x for x in lst1 if x>2]\n",
    "    return lst2\n",
    "print (over_two([4,3,2,1]))"
   ]
  },
  {
   "cell_type": "code",
   "execution_count": 18,
   "metadata": {},
   "outputs": [
    {
     "name": "stdout",
     "output_type": "stream",
     "text": [
      "[4, 3]\n"
     ]
    }
   ],
   "source": [
    "n = [4,3,2,1]\n",
    "print(list(filter(lambda x: x>2,n)))"
   ]
  },
  {
   "cell_type": "code",
   "execution_count": 19,
   "metadata": {},
   "outputs": [
    {
     "name": "stdout",
     "output_type": "stream",
     "text": [
      "[4, 3]\n"
     ]
    }
   ],
   "source": [
    "n = [4,3,2,1]\n",
    "print([x for x in n if x>2])"
   ]
  },
  {
   "cell_type": "markdown",
   "metadata": {},
   "source": [
    "Příklad 3"
   ]
  },
  {
   "cell_type": "code",
   "execution_count": 21,
   "metadata": {},
   "outputs": [
    {
     "name": "stdout",
     "output_type": "stream",
     "text": [
      "24\n"
     ]
    }
   ],
   "source": [
    "def mult (lst1):\n",
    "    prod = lst1[0]\n",
    "    for i in range(1,len(lst1)):\n",
    "        prod *= lst1[i]\n",
    "    return prod\n",
    "print (mult([4,3,2,1]))"
   ]
  },
  {
   "cell_type": "code",
   "execution_count": 25,
   "metadata": {},
   "outputs": [
    {
     "name": "stdout",
     "output_type": "stream",
     "text": [
      "24\n"
     ]
    }
   ],
   "source": [
    "from functools import reduce\n",
    "n = [4,3,2,1]\n",
    "print(reduce(lambda x,y:x*y,n))"
   ]
  },
  {
   "cell_type": "code",
   "execution_count": 2,
   "metadata": {},
   "outputs": [
    {
     "data": {
      "text/plain": [
       "200"
      ]
     },
     "execution_count": 2,
     "metadata": {},
     "output_type": "execute_result"
    }
   ],
   "source": [
    "multiply = lambda x,y : x*y\n",
    "multiply(10,20)"
   ]
  },
  {
   "cell_type": "code",
   "execution_count": 4,
   "metadata": {},
   "outputs": [
    {
     "data": {
      "text/plain": [
       "8"
      ]
     },
     "execution_count": 4,
     "metadata": {},
     "output_type": "execute_result"
    }
   ],
   "source": [
    "power = lambda x,y : x**y\n",
    "power(2,3)"
   ]
  },
  {
   "cell_type": "code",
   "execution_count": 7,
   "metadata": {},
   "outputs": [
    {
     "name": "stdout",
     "output_type": "stream",
     "text": [
      "[4, 8, 12, 16]\n"
     ]
    }
   ],
   "source": [
    "some_num = [2,4,6,8]\n",
    "double = map(lambda x: x+x, some_num)\n",
    "print(list(double))"
   ]
  },
  {
   "cell_type": "code",
   "execution_count": 12,
   "metadata": {},
   "outputs": [
    {
     "name": "stdout",
     "output_type": "stream",
     "text": [
      "['MY', 'PYTHON']\n"
     ]
    }
   ],
   "source": [
    "strings = [\"My\",\"Python\"]\n",
    "capitalize = map(lambda x: str.upper(x),strings)\n",
    "print(list(capitalize))"
   ]
  },
  {
   "cell_type": "code",
   "execution_count": 21,
   "metadata": {},
   "outputs": [
    {
     "data": {
      "text/plain": [
       "[30, 32, 33, 35, 37, 39]"
      ]
     },
     "execution_count": 21,
     "metadata": {},
     "output_type": "execute_result"
    }
   ],
   "source": [
    "#Nemodifikuje puvodni list\n",
    "attendace = [35,39,32,37,30,33]\n",
    "sorted(attendace, reverse=False)"
   ]
  },
  {
   "cell_type": "code",
   "execution_count": 20,
   "metadata": {},
   "outputs": [
    {
     "name": "stdout",
     "output_type": "stream",
     "text": [
      "[30, 32, 33, 35, 37, 39]\n"
     ]
    }
   ],
   "source": [
    "#Modifikuje puvodni list\n",
    "attendace = [35,39,32,37,30,33]\n",
    "attendace.sort()\n",
    "print(attendace)"
   ]
  },
  {
   "cell_type": "code",
   "execution_count": 31,
   "metadata": {},
   "outputs": [
    {
     "name": "stdout",
     "output_type": "stream",
     "text": [
      "[('9A', 35), ('9B', 37), ('9C', 30)]\n",
      "[('9C', 30), ('9A', 35), ('9B', 37)]\n"
     ]
    }
   ],
   "source": [
    "#Nemodifikuje puvodni list\n",
    "class_att = [('9A',35),('9B',37),('9C',30)]\n",
    "list_addition=sorted(class_att, key = lambda x: x[1])\n",
    "print(class_att)\n",
    "print(list_addition)"
   ]
  },
  {
   "cell_type": "code",
   "execution_count": 37,
   "metadata": {},
   "outputs": [
    {
     "name": "stdout",
     "output_type": "stream",
     "text": [
      "[35, 39, 32, 37, 30, 33]\n",
      "[35, 39, 37]\n"
     ]
    }
   ],
   "source": [
    "attendace = [35,39,32,37,30,33]\n",
    "abv_avg_att = filter(lambda x: x>=35,attendace)\n",
    "print(attendace)\n",
    "print(list(abv_avg_att))"
   ]
  },
  {
   "cell_type": "code",
   "execution_count": 39,
   "metadata": {},
   "outputs": [
    {
     "name": "stdout",
     "output_type": "stream",
     "text": [
      "['India', 'France', 'Germany']\n"
     ]
    }
   ],
   "source": [
    "countries = [\"India\", \"US\",\"UK\",\"France\",\"Germany\"]\n",
    "count_ge3 = filter(lambda x: len(x) >3,countries)\n",
    "print(list(count_ge3))"
   ]
  },
  {
   "cell_type": "code",
   "execution_count": 41,
   "metadata": {},
   "outputs": [
    {
     "name": "stdout",
     "output_type": "stream",
     "text": [
      "141\n"
     ]
    }
   ],
   "source": [
    "from functools import reduce\n",
    "nums = [10,20,22,25,29,35]\n",
    "summed_up = reduce(lambda x,y: x+y,nums)\n",
    "print(summed_up)"
   ]
  },
  {
   "cell_type": "code",
   "execution_count": 50,
   "metadata": {},
   "outputs": [
    {
     "name": "stdout",
     "output_type": "stream",
     "text": [
      "35\n",
      "35\n"
     ]
    }
   ],
   "source": [
    "nums = [10,20,22,25,29,35]\n",
    "list_addition = max(nums)\n",
    "print(list_addition)\n",
    "#OR\n",
    "max_value = reduce(lambda x,y: max(x,y),nums)\n",
    "print(max_value)"
   ]
  },
  {
   "cell_type": "code",
   "execution_count": 54,
   "metadata": {},
   "outputs": [
    {
     "name": "stdout",
     "output_type": "stream",
     "text": [
      "35\n"
     ]
    }
   ],
   "source": [
    "nums = [10,20,22,25,29,35]\n",
    "#                      vrátí to x Pokud x>y jinak y\n",
    "max_value = reduce(lambda x,y: x if x>y else y,nums)\n",
    "print(max_value)"
   ]
  },
  {
   "cell_type": "code",
   "execution_count": 65,
   "metadata": {},
   "outputs": [
    {
     "data": {
      "text/plain": [
       "[<function __main__.<lambda>(x)>, [[1, 35, 80], [2, 32, 75], [3, 30, 82]]]"
      ]
     },
     "execution_count": 65,
     "metadata": {},
     "output_type": "execute_result"
    }
   ],
   "source": [
    "scores = [[1,35,80],[2,32,75],[3,30,82]]\n",
    "abv_avg = 35\n",
    "new_marks =(lambda x: x[2]+2 if x[1] >= abv_avg else x[2]-2,scores)\n",
    "list(new_marks)"
   ]
  },
  {
   "cell_type": "code",
   "execution_count": 80,
   "metadata": {},
   "outputs": [
    {
     "name": "stdout",
     "output_type": "stream",
     "text": [
      "['India', 'China']\n",
      "[150.5, 200.2]\n"
     ]
    }
   ],
   "source": [
    "sales = [{'country':'India','sale':150.5},{'country':'China','sale':200.2}]\n",
    "country_key= map(lambda x:x['country'],sales)\n",
    "print(list(country_key))\n",
    "country_values = map(lambda x:x['sale'],sales)\n",
    "print(list(country_values))"
   ]
  },
  {
   "cell_type": "code",
   "execution_count": 83,
   "metadata": {},
   "outputs": [
    {
     "name": "stdout",
     "output_type": "stream",
     "text": [
      "[{'country': 'India', 'sale': 150.5}]\n"
     ]
    }
   ],
   "source": [
    "sales = [{'country':'India','sale':150.5},{'country':'China','sale':200.2}]\n",
    "india_sales = filter(lambda x:x['country'] == \"India\",sales)\n",
    "print(list(india_sales))"
   ]
  },
  {
   "cell_type": "code",
   "execution_count": 87,
   "metadata": {},
   "outputs": [
    {
     "name": "stdout",
     "output_type": "stream",
     "text": [
      "[{'country': 'China', 'sale': 200.2}]\n"
     ]
    }
   ],
   "source": [
    "sales = [{'country':'India','sale':150.5},{'country':'China','sale':200.2}]\n",
    "high_sales = filter(lambda x:x['sale'] >200,sales)\n",
    "print(list(high_sales))"
   ]
  },
  {
   "cell_type": "code",
   "execution_count": 92,
   "metadata": {},
   "outputs": [
    {
     "name": "stdout",
     "output_type": "stream",
     "text": [
      "[70, 80, 90, 100, 110]\n"
     ]
    }
   ],
   "source": [
    "list1 = [20,25,30,35,40]\n",
    "list2 = [50,55,60,65,70]\n",
    "\n",
    "list_addition = map(lambda x,y:x+y,list1,list2)\n",
    "print(list(list_addition))"
   ]
  }
 ],
 "metadata": {
  "kernelspec": {
   "display_name": "Python 3",
   "language": "python",
   "name": "python3"
  },
  "language_info": {
   "codemirror_mode": {
    "name": "ipython",
    "version": 3
   },
   "file_extension": ".py",
   "mimetype": "text/x-python",
   "name": "python",
   "nbconvert_exporter": "python",
   "pygments_lexer": "ipython3",
   "version": "3.11.8"
  }
 },
 "nbformat": 4,
 "nbformat_minor": 2
}
